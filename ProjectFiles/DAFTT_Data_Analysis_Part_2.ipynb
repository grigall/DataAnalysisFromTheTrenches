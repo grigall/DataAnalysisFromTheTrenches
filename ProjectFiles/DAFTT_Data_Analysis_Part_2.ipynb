{
 "cells": [
  {
   "cell_type": "code",
   "execution_count": null,
   "id": "db3101e5",
   "metadata": {},
   "outputs": [],
   "source": [
    "###--- Standard Imports ---###\n",
    "import os\n",
    "import pandas as pd\n",
    "import numpy as np\n",
    "from datetime import datetime as dt\n",
    "\n",
    "#Bokeh is used for plotting histograms\n",
    "from bokeh.plotting import figure, show\n",
    "from bokeh.io import output_notebook\n",
    "output_notebook()\n",
    "\n",
    "PATH = os.getcwd() #Pulls your current working directory\n",
    "FILE = 'Customers_Enhanced.csv'\n",
    "FULL_PATH = os.path.join(PATH, FILE) #Joins directory and file as one string\n",
    "\n",
    "#A function for plotting histograms\n",
    "def quick_hist(an_array, title='Default Title',y_lbl='Y Axis', x_lbl='X Axis',bins=5):\n",
    "    hist, edges = np.histogram(an_array, bins=bins) #Find edges given a specified number of bins\n",
    "    p = figure(width=700, height=400, title=title,y_axis_label=y_lbl,x_axis_label=x_lbl)\n",
    "    p.quad(top=hist, bottom=0, left=edges[:-1], right=edges[1:], fill_color=\"#606c75\", line_color=\"white\")\n",
    "    show(p)\n",
    "    return hist, edges\n",
    "\n",
    "#Print basic descriptive statistics from a 1D array\n",
    "def basic_stats(array, title='Default'):\n",
    "    print(title)\n",
    "    print('Min:', array.min())\n",
    "    print('Median:', array.median())\n",
    "    print('Avg:', round(array.mean(),2))\n",
    "    print('Std Dev:', round(array.std(),2))\n",
    "    print('Max:', array.max())\n",
    "    return array.min(), array.median(), round(array.mean(),2), array.max()\n",
    "\n",
    "#A function for specifically grabbing a single row from a DataFrame\n",
    "def get_one_row(dataframe, row_name='Plan'):\n",
    "    return [i for i in dataframe.loc[row_name, :]]\n",
    "\n",
    "#Find year-over-year percentage change from a given list of values\n",
    "def yoy_pct_change(list_of_values):\n",
    "    return [round((((list_of_values[idx+1])-list_of_values[idx])/list_of_values[idx])*100,2) for idx in range(0, len(list_of_values)-1)]\n",
    "\n",
    "#Plot a line graph of a given set of x-values (and y-values if you give them)\n",
    "def lineplot(x_values, title='Title',x_lbl='X-Axis', y_lbl='Y-Axis',**kwargs):\n",
    "    import matplotlib.pyplot as plt\n",
    "\n",
    "    if 'y_values' in kwargs:\n",
    "        y = kwargs['y_values']\n",
    "    else:\n",
    "        y = range(0, len(x_values),1)\n",
    "    if 'size' in kwargs:\n",
    "        size = kwargs['size']\n",
    "    else:\n",
    "        size=(10,7)\n",
    "    if 'xticks' in kwargs:\n",
    "        xticks = kwargs['xticks']\n",
    "    else:\n",
    "        xticks = y\n",
    "    plt.figure(figsize=size)\n",
    "    plt.plot(y, x_values)\n",
    "    plt.xlabel(x_lbl, fontweight='demibold')\n",
    "    plt.ylabel(y_lbl, fontweight='demibold')\n",
    "    plt.xticks(y,labels=xticks, rotation='vertical')\n",
    "    plt.grid(True, which='major', axis='y', alpha=0.6)    \n",
    "    plt.title(title, fontsize='x-large', fontweight='demibold')\n",
    "    plt.show()\n",
    "\n",
    "#A function for concatenating column names together to form year-over-year column labels\n",
    "def yoy_label_maker(dataframe):\n",
    "    return [str(dataframe.columns.tolist()[col])+'-'+str(dataframe.columns.tolist()[col+1]) for col in range(0, len(dataframe.columns.tolist())-1)]\n",
    "\n",
    "#Import data from file\n",
    "data = pd.read_csv(FULL_PATH, sep='\\t', encoding='utf-8') \n",
    "sales_data = pd.read_csv(os.path.join(PATH,'Months_on_Plan_Historical.csv'), sep='\\t', encoding='utf-8')\n",
    "len(data)"
   ]
  },
  {
   "cell_type": "code",
   "execution_count": null,
   "id": "2f83fc86",
   "metadata": {},
   "outputs": [],
   "source": [
    "#Consolidate historical sales data\n",
    "historical_sales = sales_data*10 #Sales per month per customer per year TIMES the Basic plan rate of $10\n",
    "df_hist_sales = pd.DataFrame(historical_sales.sum())\n",
    "df_hist_sales = df_hist_sales.transpose() #Transpose from row to column\n",
    "df_hist_sales.index = ['Plan'] #Name index\n",
    "df_hist_sales.columns = [col for col in map(int,df_hist_sales.columns.tolist())]\n",
    "\n",
    "#Add cumulative customers for YOY stats\n",
    "cust_since_yr = data.loc[:,['Customer_Since_Year', 'Plan']].groupby(['Customer_Since_Year']).count()\n",
    "cust_since_yr = cust_since_yr.transpose() #Transpose from row to column\n",
    "temp_cust = 0\n",
    "temp_range = []\n",
    "for cust in range(0, len(cust_since_yr.transpose())):\n",
    "    temp_cust = temp_cust + cust_since_yr.iloc[:, cust][0] #Add last year's customers to this year's customers\n",
    "    temp_range.append(temp_cust)\n",
    "csy_2 = pd.DataFrame(temp_range) #Convert list into DataFrame\n",
    "csy_2 = csy_2.transpose() #Transpose from row to column\n",
    "csy_2.index = ['Plan'] #Name index\n",
    "csy_2.columns = cust_since_yr.columns #Add column names from previous DataFrame\n",
    "\n",
    "avg_income_per_cust_per_yr = round(df_hist_sales/csy_2,2) #Avg income per customer per year\n",
    "avg_ipcpy = get_one_row(avg_income_per_cust_per_yr, row_name='Plan') #Pull one row for plotting\n",
    "avg_cust_growth_per_year = get_one_row(cust_since_yr, row_name='Plan') #Find avg growth per customer per year"
   ]
  },
  {
   "cell_type": "code",
   "execution_count": null,
   "id": "957fc9a0",
   "metadata": {
    "scrolled": false
   },
   "outputs": [],
   "source": [
    "#Plot everything\n",
    "lineplot(list(csy_2.loc['Plan',:])[0:-1], title='Customer Growth 2003-2022', size=(10,4),xticks=csy_2.columns.tolist()[0:-1], y_lbl='Customers (Cumulative)', x_lbl='')\n",
    "lineplot(yoy_pct_change(list(csy_2.loc['Plan',:]))[0:-1],title='Customer Growth (%) 2003-2022', size=(10,4),xticks=yoy_label_maker(csy_2)[0:-1], y_lbl='% of Change (YOY)', x_lbl='')\n",
    "lineplot(avg_income_per_cust_per_yr.transpose()[0:-1], size=(10,4), title='Average Revenue per Customer per Year (USD)', y_lbl='USD', x_lbl='', y_values=cust_since_yr.columns.tolist()[0:-1])\n",
    "lineplot(yoy_pct_change(avg_cust_growth_per_year)[0:-1], title='Average Revenue per Customer per Year (%)', size=(10,4), xticks=yoy_label_maker(csy_2)[0:-1], y_lbl='% of Growth (YOY)', x_lbl='') #YOY Customer growth\n",
    "lineplot(avg_cust_growth_per_year[0:-1], size=(10,4), y_values=cust_since_yr.columns.tolist()[0:-1], title='Customer Growth (Non-Cumulative) 2003-2022', y_lbl='Customers', x_lbl='') #New customers per year\n"
   ]
  },
  {
   "cell_type": "code",
   "execution_count": null,
   "id": "b0791807",
   "metadata": {
    "scrolled": false
   },
   "outputs": [],
   "source": [
    "#Basic Demographics\n",
    "sex_m = data.query('Sex ==\"M\"').count()[0]\n",
    "sex_f = data.query('Sex ==\"F\"').count()[0]\n",
    "\n",
    "age_m = data.loc[:,['Sex', 'Age']].query('Sex == \"M\"').Age\n",
    "age_f = data.loc[:,['Sex', 'Age']].query('Sex == \"F\"').Age\n",
    "\n",
    "print('Male:', sex_m)\n",
    "print('Female:', sex_f)\n",
    "print('Male-to-Female Ratio:', round(sex_m/sex_f,2))\n",
    "print('% of Total, Male:', round(sex_m/len(data),2))\n",
    "print('% of Total, Female:', round(sex_f/len(data),2))\n",
    "print('\\n')\n",
    "basic_stats(age_f, title='Female Customer Age Demographics')\n",
    "print('\\n')\n",
    "basic_stats(age_m, title='Male Customer Age Demographics')"
   ]
  },
  {
   "cell_type": "code",
   "execution_count": null,
   "id": "ef8b57f7",
   "metadata": {},
   "outputs": [],
   "source": [
    "#Check number of people in \"target demographic\"\n",
    "len(data.query('Age > 19 and Age < 41'))/len(data.Age) "
   ]
  },
  {
   "cell_type": "code",
   "execution_count": null,
   "id": "ada68d98",
   "metadata": {},
   "outputs": [],
   "source": [
    "#A few quick plots to check customer age distribution\n",
    "quick_hist(data.Age, title='Customer Age Distribution', y_lbl='Count', x_lbl='Age',bins=20) #Overall\n",
    "quick_hist(age_f,bins=20,title='Customer Age Distribution: Female', y_lbl='Count', x_lbl='Age') #Female Only\n",
    "quick_hist(age_m,bins=20,title='Customer Age Distribution: Male', y_lbl='Count', x_lbl='Age') #Male Only"
   ]
  }
 ],
 "metadata": {
  "kernelspec": {
   "display_name": "Python 3 (ipykernel)",
   "language": "python",
   "name": "python3"
  },
  "language_info": {
   "codemirror_mode": {
    "name": "ipython",
    "version": 3
   },
   "file_extension": ".py",
   "mimetype": "text/x-python",
   "name": "python",
   "nbconvert_exporter": "python",
   "pygments_lexer": "ipython3",
   "version": "3.10.12"
  }
 },
 "nbformat": 4,
 "nbformat_minor": 5
}
