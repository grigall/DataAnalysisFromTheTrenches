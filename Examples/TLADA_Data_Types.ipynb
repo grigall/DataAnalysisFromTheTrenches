{
 "cells": [
  {
   "cell_type": "code",
   "execution_count": 1,
   "id": "e5c22f72",
   "metadata": {},
   "outputs": [
    {
     "name": "stdout",
     "output_type": "stream",
     "text": [
      "Sum of 1 and 1.0 equals 2.0\n",
      "Difference of 1 and 1.0 equals 0.0\n",
      "Product of 1 and 1.0 equals 1.0\n",
      "Quotient of 1 and 1.0 equals 1.0\n"
     ]
    }
   ],
   "source": [
    "#Find results of mathematical operations between integers and floats\n",
    "integer = int(1)\n",
    "floating_point = float(1)\n",
    "\n",
    "print(f'Sum of {integer} and {floating_point} equals {(integer+floating_point)}')\n",
    "print(f'Difference of {integer} and {floating_point} equals {(integer-floating_point)}')\n",
    "print(f'Product of {integer} and {floating_point} equals {(integer*floating_point)}')\n",
    "print(f'Quotient of {integer} and {floating_point} equals {(integer/floating_point)}')"
   ]
  },
  {
   "cell_type": "code",
   "execution_count": 2,
   "id": "c62ab9ac",
   "metadata": {},
   "outputs": [
    {
     "name": "stdout",
     "output_type": "stream",
     "text": [
      "Is 1 equal to 1.0? Answer:  True\n",
      "Is 1's data type equal to 1.0's data type? Answer:  False\n"
     ]
    }
   ],
   "source": [
    "#Check equality of values and data types\n",
    "def equality_check(value_1, value_2):  \n",
    "    print(f'Is {value_1} equal to {value_2}? Answer: ', value_1==value_2)\n",
    "    print(f'Is {value_1}\\'s data type equal to {value_2}\\'s data type? Answer: ', \n",
    "          type(value_1)==type(value_2))\n",
    "\n",
    "equality_check(integer, floating_point)"
   ]
  },
  {
   "cell_type": "code",
   "execution_count": 3,
   "id": "92c60a39",
   "metadata": {},
   "outputs": [
    {
     "name": "stdout",
     "output_type": "stream",
     "text": [
      "You do have chickens.\n"
     ]
    }
   ],
   "source": [
    "#Use Boolean values to evaluate statements\n",
    "\n",
    "I_have_chickens = True\n",
    "\n",
    "if I_have_chickens == True:\n",
    "    print('You do have chickens.')\n",
    "else:\n",
    "    print('You do NOT have chickens.')"
   ]
  },
  {
   "cell_type": "code",
   "execution_count": 4,
   "id": "d109ee2c",
   "metadata": {},
   "outputs": [
    {
     "name": "stdout",
     "output_type": "stream",
     "text": [
      "Is 1 equal to 1? Answer:  False\n",
      "Is 1's data type equal to 1's data type? Answer:  False\n"
     ]
    }
   ],
   "source": [
    "#Compare an integer to a string\n",
    "an_integer = 1\n",
    "a_string = '1'\n",
    "\n",
    "equality_check(an_integer, a_string)"
   ]
  },
  {
   "cell_type": "code",
   "execution_count": 5,
   "id": "f8a5e8f4",
   "metadata": {},
   "outputs": [
    {
     "name": "stdout",
     "output_type": "stream",
     "text": [
      "None Value: None\n",
      "Not-a-Number (i.e. NaN, N/A, or NULL) Value: nan\n",
      "Not-a-Time (i.e. NaT): NaT\n"
     ]
    }
   ],
   "source": [
    "#Nones, NaNs, and NaTs\n",
    "import numpy as np\n",
    "import pandas as pd\n",
    "\n",
    "none_var = None #Python object, not as memory-efficient as NaN\n",
    "nan_var = np.nan #Universal NULL or N/A value, stored as float data type\n",
    "nat_var = pd.NaT #DateTime-specific pandas value, stored as float data type\n",
    "\n",
    "print('None Value:', none_var)\n",
    "print('Not-a-Number (i.e. NaN, N/A, or NULL) Value:', nan_var)\n",
    "print('Not-a-Time (i.e. NaT):', nat_var)"
   ]
  },
  {
   "cell_type": "code",
   "execution_count": 9,
   "id": "5320d680",
   "metadata": {},
   "outputs": [
    {
     "data": {
      "text/html": [
       "<div>\n",
       "<style scoped>\n",
       "    .dataframe tbody tr th:only-of-type {\n",
       "        vertical-align: middle;\n",
       "    }\n",
       "\n",
       "    .dataframe tbody tr th {\n",
       "        vertical-align: top;\n",
       "    }\n",
       "\n",
       "    .dataframe thead th {\n",
       "        text-align: right;\n",
       "    }\n",
       "</style>\n",
       "<table border=\"1\" class=\"dataframe\">\n",
       "  <thead>\n",
       "    <tr style=\"text-align: right;\">\n",
       "      <th></th>\n",
       "      <th>col_1</th>\n",
       "      <th>col_2</th>\n",
       "      <th>col_3</th>\n",
       "      <th>col_4</th>\n",
       "    </tr>\n",
       "  </thead>\n",
       "  <tbody>\n",
       "    <tr>\n",
       "      <th>0</th>\n",
       "      <td>1</td>\n",
       "      <td>2.0</td>\n",
       "      <td>3</td>\n",
       "      <td>4</td>\n",
       "    </tr>\n",
       "    <tr>\n",
       "      <th>1</th>\n",
       "      <td>1</td>\n",
       "      <td>NaN</td>\n",
       "      <td>3</td>\n",
       "      <td>4</td>\n",
       "    </tr>\n",
       "  </tbody>\n",
       "</table>\n",
       "</div>"
      ],
      "text/plain": [
       "   col_1  col_2  col_3  col_4\n",
       "0      1    2.0      3      4\n",
       "1      1    NaN      3      4"
      ]
     },
     "execution_count": 9,
     "metadata": {},
     "output_type": "execute_result"
    }
   ],
   "source": [
    "#Example of how NaN values cannot be counted or summed\n",
    "just_ints = [1,2,3,4]\n",
    "with_nans = [1,None,3,4]\n",
    "\n",
    "#DataFrame with both sets of values together\n",
    "df_ints = pd.DataFrame([just_ints, with_nans], columns=['col_1','col_2','col_3','col_4'])\n",
    "df_ints"
   ]
  },
  {
   "cell_type": "code",
   "execution_count": 10,
   "id": "247ceb3c",
   "metadata": {},
   "outputs": [
    {
     "data": {
      "text/html": [
       "<div>\n",
       "<style scoped>\n",
       "    .dataframe tbody tr th:only-of-type {\n",
       "        vertical-align: middle;\n",
       "    }\n",
       "\n",
       "    .dataframe tbody tr th {\n",
       "        vertical-align: top;\n",
       "    }\n",
       "\n",
       "    .dataframe thead th {\n",
       "        text-align: right;\n",
       "    }\n",
       "</style>\n",
       "<table border=\"1\" class=\"dataframe\">\n",
       "  <thead>\n",
       "    <tr style=\"text-align: right;\">\n",
       "      <th></th>\n",
       "      <th>Count</th>\n",
       "      <th>Sum</th>\n",
       "    </tr>\n",
       "  </thead>\n",
       "  <tbody>\n",
       "    <tr>\n",
       "      <th>col_1</th>\n",
       "      <td>2</td>\n",
       "      <td>2.0</td>\n",
       "    </tr>\n",
       "    <tr>\n",
       "      <th>col_2</th>\n",
       "      <td>1</td>\n",
       "      <td>2.0</td>\n",
       "    </tr>\n",
       "    <tr>\n",
       "      <th>col_3</th>\n",
       "      <td>2</td>\n",
       "      <td>6.0</td>\n",
       "    </tr>\n",
       "    <tr>\n",
       "      <th>col_4</th>\n",
       "      <td>2</td>\n",
       "      <td>8.0</td>\n",
       "    </tr>\n",
       "  </tbody>\n",
       "</table>\n",
       "</div>"
      ],
      "text/plain": [
       "       Count  Sum\n",
       "col_1      2  2.0\n",
       "col_2      1  2.0\n",
       "col_3      2  6.0\n",
       "col_4      2  8.0"
      ]
     },
     "execution_count": 10,
     "metadata": {},
     "output_type": "execute_result"
    }
   ],
   "source": [
    "#DataFrames to count, sum, and average data in df_ints\n",
    "int_count = pd.DataFrame(df_ints.count(), columns=['Count'])\n",
    "int_sum = pd.DataFrame(df_ints.sum(), columns=['Sum'])\n",
    "int_aggregations = pd.concat([int_count, int_sum], axis=1)\n",
    "int_aggregations"
   ]
  },
  {
   "cell_type": "code",
   "execution_count": 8,
   "id": "e25afeb0",
   "metadata": {},
   "outputs": [
    {
     "data": {
      "text/html": [
       "<div>\n",
       "<style scoped>\n",
       "    .dataframe tbody tr th:only-of-type {\n",
       "        vertical-align: middle;\n",
       "    }\n",
       "\n",
       "    .dataframe tbody tr th {\n",
       "        vertical-align: top;\n",
       "    }\n",
       "\n",
       "    .dataframe thead th {\n",
       "        text-align: right;\n",
       "    }\n",
       "</style>\n",
       "<table border=\"1\" class=\"dataframe\">\n",
       "  <thead>\n",
       "    <tr style=\"text-align: right;\">\n",
       "      <th></th>\n",
       "      <th>col_1</th>\n",
       "      <th>col_2</th>\n",
       "    </tr>\n",
       "  </thead>\n",
       "  <tbody>\n",
       "    <tr>\n",
       "      <th>0</th>\n",
       "      <td>2000-01-01</td>\n",
       "      <td>2010-01-01</td>\n",
       "    </tr>\n",
       "    <tr>\n",
       "      <th>1</th>\n",
       "      <td>2020-01-01</td>\n",
       "      <td>NaT</td>\n",
       "    </tr>\n",
       "  </tbody>\n",
       "</table>\n",
       "</div>"
      ],
      "text/plain": [
       "       col_1      col_2\n",
       "0 2000-01-01 2010-01-01\n",
       "1 2020-01-01        NaT"
      ]
     },
     "execution_count": 8,
     "metadata": {},
     "output_type": "execute_result"
    }
   ],
   "source": [
    "#DataFrame with missing time value\n",
    "just_dates = [pd.Timestamp('20000101'),pd.Timestamp('20100101')]\n",
    "with_nats = [pd.Timestamp('20200101'),pd.NaT]\n",
    "df_dates = pd.DataFrame([just_dates, with_nats], columns=['col_1','col_2'])\n",
    "df_dates"
   ]
  },
  {
   "cell_type": "code",
   "execution_count": null,
   "id": "b74979d1",
   "metadata": {},
   "outputs": [],
   "source": []
  },
  {
   "cell_type": "code",
   "execution_count": null,
   "id": "1212ae5c",
   "metadata": {},
   "outputs": [],
   "source": []
  },
  {
   "cell_type": "code",
   "execution_count": null,
   "id": "abc5889b",
   "metadata": {},
   "outputs": [],
   "source": []
  },
  {
   "cell_type": "code",
   "execution_count": null,
   "id": "a201a1d5",
   "metadata": {},
   "outputs": [],
   "source": []
  },
  {
   "cell_type": "code",
   "execution_count": null,
   "id": "2e240483",
   "metadata": {},
   "outputs": [],
   "source": []
  },
  {
   "cell_type": "code",
   "execution_count": null,
   "id": "4df7fbda",
   "metadata": {},
   "outputs": [],
   "source": []
  }
 ],
 "metadata": {
  "kernelspec": {
   "display_name": "Python 3 (ipykernel)",
   "language": "python",
   "name": "python3"
  },
  "language_info": {
   "codemirror_mode": {
    "name": "ipython",
    "version": 3
   },
   "file_extension": ".py",
   "mimetype": "text/x-python",
   "name": "python",
   "nbconvert_exporter": "python",
   "pygments_lexer": "ipython3",
   "version": "3.10.4"
  }
 },
 "nbformat": 4,
 "nbformat_minor": 5
}
