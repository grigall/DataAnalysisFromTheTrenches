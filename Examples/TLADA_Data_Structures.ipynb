{
 "cells": [
  {
   "cell_type": "code",
   "execution_count": null,
   "id": "d162077d",
   "metadata": {},
   "outputs": [],
   "source": [
    "#List example\n",
    "my_list = ['Do some writing', 'Stop slacking off', 'Do some more writing']\n",
    "\n",
    "def print_list(LIST): #Create a function for printing list indices and items\n",
    "    for index, item in enumerate(LIST): #Loop through each index and item\n",
    "        print(index, item)\n",
    "        \n",
    "print_list(my_list) #Print out results"
   ]
  },
  {
   "cell_type": "code",
   "execution_count": null,
   "id": "4f696c2f",
   "metadata": {},
   "outputs": [],
   "source": [
    "#Removing an item from a list\n",
    "my_list.pop(1) #Remove the middle item in the list with the index of 1\n",
    "my_other_list = my_list.copy() #Copy the contents of my_list to a new list\n",
    "\n",
    "print_list(my_other_list) #Print out results"
   ]
  },
  {
   "cell_type": "code",
   "execution_count": null,
   "id": "2da4f632",
   "metadata": {},
   "outputs": [],
   "source": [
    "#Adding an item to a list\n",
    "my_final_list = my_other_list.copy()\n",
    "new_item = 'Seriously, stop procrastinating!'\n",
    "my_final_list.append(new_item) #Add new_item onto the end of my_final_list\n",
    "\n",
    "print_list(my_final_list)"
   ]
  },
  {
   "cell_type": "code",
   "execution_count": null,
   "id": "3d5fb464",
   "metadata": {},
   "outputs": [],
   "source": [
    "#Tuple example\n",
    "import pandas as pd\n",
    "df_names = pd.DataFrame([['Quaid','Douglas'],['Matrix','John'],['Tasker','Harry']], \n",
    "                        columns=['Last_Name','First_Name']) #Add name info\n",
    "df_names"
   ]
  },
  {
   "cell_type": "code",
   "execution_count": null,
   "id": "4e7367f3",
   "metadata": {},
   "outputs": [],
   "source": [
    "#Make tuples from First and Last names\n",
    "for idx in df_names.index.tolist():\n",
    "    print(tuple(df_names.iloc[idx,:]))"
   ]
  },
  {
   "cell_type": "code",
   "execution_count": null,
   "id": "f2f549e1",
   "metadata": {},
   "outputs": [],
   "source": [
    "#Create Unique ID from first and last names\n",
    "df_tuple = pd.DataFrame(None) #Blank pandas DataFrame to hold information\n",
    "for idx in df_names.index.tolist():\n",
    "    #Next line adds tuples in string form to each DataFrame cell\n",
    "    df_tuple = pd.concat([df_tuple,pd.Series(str(tuple(df_names.iloc[idx,:])))],axis=0)\n",
    "df_tuple.reset_index(inplace=True, drop=True) #Reset the index sequence to match df_names\n",
    "df_tuple.columns=['UID'] #Add column name\n",
    "df_tuple"
   ]
  },
  {
   "cell_type": "code",
   "execution_count": null,
   "id": "79e75a6e",
   "metadata": {},
   "outputs": [],
   "source": [
    "#Mixed data types in lists and tuples\n",
    "krazy_list = ['Pigs in a blanket', 3, None, False, 3.2]\n",
    "insane_tuple = ('Pigs in a blanket', 3, None, False, 3.2)\n",
    "\n",
    "#Function loops through each item in each list/tuple\n",
    "def list_item_equality(list_one, list_two):\n",
    "    assert len(list_one) == len(list_two) #Ensures both lists/tuples are the same length\n",
    "    equality = True #Default value\n",
    "    for idx in range(len(list_one)):\n",
    "        if list_one[idx] == list_two[idx]: #If condition is True, passes to next index\n",
    "            pass\n",
    "        else:\n",
    "            equality = False #If condition is False, sets default value to False\n",
    "    return equality #Outputs default value\n",
    "\n",
    "print('List equal to tuple?',krazy_list == insane_tuple)\n",
    "print('List and tuple items equal?',list_item_equality(krazy_list, insane_tuple))"
   ]
  },
  {
   "cell_type": "code",
   "execution_count": 9,
   "id": "d828257c",
   "metadata": {},
   "outputs": [
    {
     "name": "stdout",
     "output_type": "stream",
     "text": [
      "1D:\n",
      " [1 2 3 4] \n",
      "\n",
      "2D:\n",
      " [[1 2 3 4]\n",
      " [1 2 3 4]] \n",
      "\n",
      "3D:\n",
      " [[[1 2 3 4]\n",
      "  [1 2 3 4]]\n",
      "\n",
      " [[1 2 3 4]\n",
      "  [1 2 3 4]]] \n",
      "\n"
     ]
    }
   ],
   "source": [
    "#One-, two-, and three-dimensional arrays\n",
    "import numpy as np\n",
    "\n",
    "oneDim = np.array([1,2,3,4], int)\n",
    "twoDim = np.array([oneDim, oneDim], int)\n",
    "threeDim = np.array([twoDim, twoDim], int)\n",
    "\n",
    "print('1D:\\n', oneDim, '\\n')\n",
    "print('2D:\\n', twoDim, '\\n')\n",
    "print('3D:\\n', threeDim, '\\n')"
   ]
  },
  {
   "cell_type": "code",
   "execution_count": 23,
   "id": "b2f9ac51",
   "metadata": {},
   "outputs": [
    {
     "data": {
      "text/plain": [
       "array([[0, 0],\n",
       "       [0, 0]])"
      ]
     },
     "execution_count": 23,
     "metadata": {},
     "output_type": "execute_result"
    }
   ],
   "source": [
    "#3D array filled with zeros\n",
    "zeros = np.zeros((2,2),int)\n",
    "zeros"
   ]
  },
  {
   "cell_type": "code",
   "execution_count": 24,
   "id": "791fa9dc",
   "metadata": {},
   "outputs": [
    {
     "data": {
      "text/plain": [
       "matrix([[0, 0],\n",
       "        [0, 0]])"
      ]
     },
     "execution_count": 24,
     "metadata": {},
     "output_type": "execute_result"
    }
   ],
   "source": [
    "z_mtrx = np.matrix(zeros)\n",
    "z_mtrx"
   ]
  },
  {
   "cell_type": "code",
   "execution_count": null,
   "id": "83e08fcc",
   "metadata": {},
   "outputs": [],
   "source": []
  },
  {
   "cell_type": "code",
   "execution_count": null,
   "id": "77427570",
   "metadata": {},
   "outputs": [],
   "source": []
  }
 ],
 "metadata": {
  "kernelspec": {
   "display_name": "Python 3 (ipykernel)",
   "language": "python",
   "name": "python3"
  },
  "language_info": {
   "codemirror_mode": {
    "name": "ipython",
    "version": 3
   },
   "file_extension": ".py",
   "mimetype": "text/x-python",
   "name": "python",
   "nbconvert_exporter": "python",
   "pygments_lexer": "ipython3",
   "version": "3.10.4"
  }
 },
 "nbformat": 4,
 "nbformat_minor": 5
}
