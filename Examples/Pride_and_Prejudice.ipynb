{
 "cells": [
  {
   "cell_type": "code",
   "execution_count": 1,
   "id": "838b3a7d",
   "metadata": {},
   "outputs": [
    {
     "data": {
      "text/plain": [
       "140656"
      ]
     },
     "execution_count": 1,
     "metadata": {},
     "output_type": "execute_result"
    }
   ],
   "source": [
    "'''\n",
    "Example of word frequency analysis of Pride and Prejudice by Jane Austen\n",
    "Downloaded from Project Gutenberg at: https://www.gutenberg.org/ebooks/1342.txt.utf-8\n",
    "'''\n",
    "#Necessary imports\n",
    "import os\n",
    "import numpy as np\n",
    "import pandas as pd\n",
    "import re\n",
    "\n",
    "#Download and place the file in your working directory\n",
    "PATH = os.getcwd() #Opens current working directory\n",
    "FILE = 'pride_prejudice.txt'\n",
    "FULL_PATH = os.path.join(PATH, FILE) #Join path to file\n",
    "\n",
    "'''\n",
    "Another way to do this would be PATH+'/'+FILE but \n",
    "the os.path.join() method adds the correct path delimiter \n",
    "based on your Operating System\n",
    "'''\n",
    "\n",
    "#Open the file and decode it properly\n",
    "with open(FULL_PATH, encoding='utf-8') as file:\n",
    "    book = file.read()\n",
    "    \n",
    "#Remove line breaks\n",
    "newer_book = book.replace('\\n',' ')\n",
    "\n",
    "#Tokenize text by splitting it on all the spaces\n",
    "split_book = newer_book.split(' ')\n",
    "\n",
    "#Cutout Project Gutenberg boilerplate\n",
    "bad_idx = 0\n",
    "for i in range(0, 300):\n",
    "    if split_book[i] == 'EBOOK' and split_book[i-1] == 'GUTENBERG':\n",
    "        bad_idx = i\n",
    "        \n",
    "new_book = split_book[bad_idx:]\n",
    "\n",
    "#Use regex to strip out all non-letter characters\n",
    "new_word_list = []\n",
    "for word in new_book:\n",
    "    item = re.findall('[A-z]+', word.strip('_'))\n",
    "    if len(item) > 0:\n",
    "        new_word_list.extend(item)\n",
    "    else:\n",
    "        pass\n",
    "    \n",
    "#Create pandas dataframe from word list\n",
    "df_book = pd.DataFrame(new_word_list, columns=['Word'])\n",
    "\n",
    "#Add column that includes length of words\n",
    "df_book['Word_Length'] = [len(i) for i in df_book.Word]\n",
    "\n",
    "#Remove empty rows\n",
    "df_book2 = df_book[df_book.Word_Length > 0]\n",
    "\n",
    "#Count instances of words\n",
    "book_group = df_book2.groupby(['Word', 'Word_Length']).count()\n",
    "book_group.reset_index(inplace=True, drop=False) #Reset index to turn grouping result into normal dataframe with numbered index\n",
    "\n",
    "#Sort values by max word length\n",
    "b2 = book_group.sort_values(by='Word_Length', ascending=False)\n",
    "b2.head(10)"
   ]
  },
  {
   "cell_type": "code",
   "execution_count": null,
   "id": "5ab8861a",
   "metadata": {},
   "outputs": [],
   "source": []
  }
 ],
 "metadata": {
  "kernelspec": {
   "display_name": "Python 3 (ipykernel)",
   "language": "python",
   "name": "python3"
  },
  "language_info": {
   "codemirror_mode": {
    "name": "ipython",
    "version": 3
   },
   "file_extension": ".py",
   "mimetype": "text/x-python",
   "name": "python",
   "nbconvert_exporter": "python",
   "pygments_lexer": "ipython3",
   "version": "3.10.4"
  }
 },
 "nbformat": 4,
 "nbformat_minor": 5
}
